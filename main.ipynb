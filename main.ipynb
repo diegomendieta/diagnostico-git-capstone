{
 "cells": [
  {
   "cell_type": "code",
   "execution_count": 9,
   "metadata": {},
   "outputs": [],
   "source": [
    "import json\n",
    "import pandas as pd"
   ]
  },
  {
   "cell_type": "code",
   "execution_count": 41,
   "metadata": {},
   "outputs": [],
   "source": [
    "DB_PATH = 'farmers-protest-tweets-2021-03-5.json'\n",
    "# N = 10000\n",
    "\n",
    "with open(DB_PATH, 'r') as file:\n",
    "    # lines = [json.loads(next(file).strip()) for _ in range(N)]\n",
    "    lines = [json.loads(next(file).strip()) for _ in range(len(file))]"
   ]
  },
  {
   "cell_type": "code",
   "execution_count": 42,
   "metadata": {},
   "outputs": [],
   "source": [
    "raw_df = pd.DataFrame(lines)"
   ]
  },
  {
   "cell_type": "code",
   "execution_count": 43,
   "metadata": {},
   "outputs": [],
   "source": [
    "users_df = pd.json_normalize(raw_df.user)[['username']]\n",
    "raw_df['date'] = raw_df['date'].apply(lambda x: x.split('T')[0])"
   ]
  },
  {
   "cell_type": "code",
   "execution_count": 44,
   "metadata": {},
   "outputs": [
    {
     "data": {
      "text/html": [
       "<div>\n",
       "<style scoped>\n",
       "    .dataframe tbody tr th:only-of-type {\n",
       "        vertical-align: middle;\n",
       "    }\n",
       "\n",
       "    .dataframe tbody tr th {\n",
       "        vertical-align: top;\n",
       "    }\n",
       "\n",
       "    .dataframe thead th {\n",
       "        text-align: right;\n",
       "    }\n",
       "</style>\n",
       "<table border=\"1\" class=\"dataframe\">\n",
       "  <thead>\n",
       "    <tr style=\"text-align: right;\">\n",
       "      <th></th>\n",
       "      <th>username</th>\n",
       "      <th>renderedContent</th>\n",
       "      <th>date</th>\n",
       "      <th>retweetCount</th>\n",
       "    </tr>\n",
       "  </thead>\n",
       "  <tbody>\n",
       "    <tr>\n",
       "      <th>0</th>\n",
       "      <td>ShashiRajbhar6</td>\n",
       "      <td>Support 👇\\n\\n#FarmersProtest</td>\n",
       "      <td>2021-03-30</td>\n",
       "      <td>0</td>\n",
       "    </tr>\n",
       "    <tr>\n",
       "      <th>1</th>\n",
       "      <td>kaursuk06272818</td>\n",
       "      <td>Supporting farmers means supporting our countr...</td>\n",
       "      <td>2021-03-30</td>\n",
       "      <td>0</td>\n",
       "    </tr>\n",
       "    <tr>\n",
       "      <th>2</th>\n",
       "      <td>kaursuk06272818</td>\n",
       "      <td>Support farmers if you are related to food #St...</td>\n",
       "      <td>2021-03-30</td>\n",
       "      <td>0</td>\n",
       "    </tr>\n",
       "    <tr>\n",
       "      <th>3</th>\n",
       "      <td>SukhdevSingh_</td>\n",
       "      <td>#StopHateAgainstFarmers support #FarmersProtes...</td>\n",
       "      <td>2021-03-30</td>\n",
       "      <td>1</td>\n",
       "    </tr>\n",
       "    <tr>\n",
       "      <th>4</th>\n",
       "      <td>Davidmu66668113</td>\n",
       "      <td>You hate farmers I hate you, \\nif you love the...</td>\n",
       "      <td>2021-03-30</td>\n",
       "      <td>0</td>\n",
       "    </tr>\n",
       "  </tbody>\n",
       "</table>\n",
       "</div>"
      ],
      "text/plain": [
       "          username                                    renderedContent  \\\n",
       "0   ShashiRajbhar6                       Support 👇\\n\\n#FarmersProtest   \n",
       "1  kaursuk06272818  Supporting farmers means supporting our countr...   \n",
       "2  kaursuk06272818  Support farmers if you are related to food #St...   \n",
       "3    SukhdevSingh_  #StopHateAgainstFarmers support #FarmersProtes...   \n",
       "4  Davidmu66668113  You hate farmers I hate you, \\nif you love the...   \n",
       "\n",
       "         date  retweetCount  \n",
       "0  2021-03-30             0  \n",
       "1  2021-03-30             0  \n",
       "2  2021-03-30             0  \n",
       "3  2021-03-30             1  \n",
       "4  2021-03-30             0  "
      ]
     },
     "execution_count": 44,
     "metadata": {},
     "output_type": "execute_result"
    }
   ],
   "source": [
    "df = pd.concat([raw_df, users_df], axis=1)[['username', 'renderedContent', 'date', 'retweetCount']]\n",
    "df.head(5)"
   ]
  },
  {
   "cell_type": "code",
   "execution_count": 45,
   "metadata": {},
   "outputs": [
    {
     "ename": "ModuleNotFoundError",
     "evalue": "No module named 'helpers'",
     "output_type": "error",
     "traceback": [
      "\u001b[1;31m---------------------------------------------------------------------------\u001b[0m",
      "\u001b[1;31mModuleNotFoundError\u001b[0m                       Traceback (most recent call last)",
      "\u001b[1;32m<ipython-input-45-b70d0152999c>\u001b[0m in \u001b[0;36m<module>\u001b[1;34m\u001b[0m\n\u001b[1;32m----> 1\u001b[1;33m from helpers import (\n\u001b[0m\u001b[0;32m      2\u001b[0m     \u001b[0mget_most_retweeted\u001b[0m\u001b[1;33m,\u001b[0m\u001b[1;33m\u001b[0m\u001b[1;33m\u001b[0m\u001b[0m\n\u001b[0;32m      3\u001b[0m     \u001b[0mget_users_who_tweeted_the_most\u001b[0m\u001b[1;33m,\u001b[0m\u001b[1;33m\u001b[0m\u001b[1;33m\u001b[0m\u001b[0m\n\u001b[0;32m      4\u001b[0m )\n",
      "\u001b[1;31mModuleNotFoundError\u001b[0m: No module named 'helpers'"
     ]
    }
   ],
   "source": [
    "from helpers import (\n",
    "    get_most_retweeted, \n",
    "    get_users_who_tweeted_the_most, \n",
    "    get_days_with_more_tweets, \n",
    "    get_most_used_hashtags, \n",
    ")"
   ]
  },
  {
   "cell_type": "code",
   "execution_count": 46,
   "metadata": {},
   "outputs": [],
   "source": [
    "get_most_retweeted(df, 10)"
   ]
  },
  {
   "cell_type": "code",
   "execution_count": 47,
   "metadata": {},
   "outputs": [],
   "source": [
    "get_users_who_tweet_the_most(df, 10)"
   ]
  },
  {
   "cell_type": "code",
   "execution_count": 52,
   "metadata": {},
   "outputs": [],
   "source": [
    "get_days_with_more_tweets(df, 10)"
   ]
  },
  {
   "cell_type": "code",
   "execution_count": 91,
   "metadata": {
    "scrolled": true
   },
   "outputs": [
    {
     "name": "stdout",
     "output_type": "stream",
     "text": [
      "FarmersProtest:               9521\n",
      "NoVoteTo_LiarModi:            2124\n",
      "BurnFarmLawsOnHoli:           1144\n",
      "होली_के_रंग_किसानों_के_संग:   975\n",
      "आज_भारत_बंद_है:               917\n",
      "LieLikeModi:                  667\n",
      "StopHateAgainstFarmers:       487\n",
      "FarmersProtest_BharatBandh:   292\n",
      "HumanRights:                  255\n",
      "FarmLaws_DeathWarrant:        249\n"
     ]
    }
   ],
   "source": [
    "get_most_used_hashtags(df, 10)"
   ]
  },
  {
   "cell_type": "code",
   "execution_count": null,
   "metadata": {},
   "outputs": [],
   "source": []
  }
 ],
 "metadata": {
  "kernelspec": {
   "display_name": "Python 3",
   "language": "python",
   "name": "python3"
  },
  "language_info": {
   "codemirror_mode": {
    "name": "ipython",
    "version": 3
   },
   "file_extension": ".py",
   "mimetype": "text/x-python",
   "name": "python",
   "nbconvert_exporter": "python",
   "pygments_lexer": "ipython3",
   "version": "3.8.5"
  }
 },
 "nbformat": 4,
 "nbformat_minor": 4
}
