{
 "cells": [
  {
   "cell_type": "code",
   "execution_count": 1,
   "metadata": {},
   "outputs": [],
   "source": [
    "import json\n",
    "import pandas as pd"
   ]
  },
  {
   "cell_type": "code",
   "execution_count": 2,
   "metadata": {},
   "outputs": [],
   "source": [
    "DB_PATH = 'farmers-protest-tweets-2021-03-5.json'\n",
    "# N = 10000\n",
    "\n",
    "with open(DB_PATH, 'r') as file:\n",
    "    # lines = [json.loads(next(file).strip()) for _ in range(N)]\n",
    "    \n",
    "    lines = []\n",
    "    while True:\n",
    "        try:\n",
    "            line = json.loads(next(file).strip())\n",
    "            lines.append(line)\n",
    "        except StopIteration:\n",
    "            break"
   ]
  },
  {
   "cell_type": "code",
   "execution_count": 3,
   "metadata": {},
   "outputs": [],
   "source": [
    "raw_df = pd.DataFrame(lines)"
   ]
  },
  {
   "cell_type": "code",
   "execution_count": 4,
   "metadata": {},
   "outputs": [],
   "source": [
    "users_df = pd.json_normalize(raw_df.user)[['username']]\n",
    "raw_df['date'] = raw_df['date'].apply(lambda x: x.split('T')[0])"
   ]
  },
  {
   "cell_type": "code",
   "execution_count": 5,
   "metadata": {},
   "outputs": [
    {
     "data": {
      "text/html": [
       "<div>\n",
       "<style scoped>\n",
       "    .dataframe tbody tr th:only-of-type {\n",
       "        vertical-align: middle;\n",
       "    }\n",
       "\n",
       "    .dataframe tbody tr th {\n",
       "        vertical-align: top;\n",
       "    }\n",
       "\n",
       "    .dataframe thead th {\n",
       "        text-align: right;\n",
       "    }\n",
       "</style>\n",
       "<table border=\"1\" class=\"dataframe\">\n",
       "  <thead>\n",
       "    <tr style=\"text-align: right;\">\n",
       "      <th></th>\n",
       "      <th>username</th>\n",
       "      <th>renderedContent</th>\n",
       "      <th>date</th>\n",
       "      <th>retweetCount</th>\n",
       "    </tr>\n",
       "  </thead>\n",
       "  <tbody>\n",
       "    <tr>\n",
       "      <th>0</th>\n",
       "      <td>ShashiRajbhar6</td>\n",
       "      <td>Support 👇\\n\\n#FarmersProtest</td>\n",
       "      <td>2021-03-30</td>\n",
       "      <td>0</td>\n",
       "    </tr>\n",
       "    <tr>\n",
       "      <th>1</th>\n",
       "      <td>kaursuk06272818</td>\n",
       "      <td>Supporting farmers means supporting our countr...</td>\n",
       "      <td>2021-03-30</td>\n",
       "      <td>0</td>\n",
       "    </tr>\n",
       "    <tr>\n",
       "      <th>2</th>\n",
       "      <td>kaursuk06272818</td>\n",
       "      <td>Support farmers if you are related to food #St...</td>\n",
       "      <td>2021-03-30</td>\n",
       "      <td>0</td>\n",
       "    </tr>\n",
       "    <tr>\n",
       "      <th>3</th>\n",
       "      <td>SukhdevSingh_</td>\n",
       "      <td>#StopHateAgainstFarmers support #FarmersProtes...</td>\n",
       "      <td>2021-03-30</td>\n",
       "      <td>1</td>\n",
       "    </tr>\n",
       "    <tr>\n",
       "      <th>4</th>\n",
       "      <td>Davidmu66668113</td>\n",
       "      <td>You hate farmers I hate you, \\nif you love the...</td>\n",
       "      <td>2021-03-30</td>\n",
       "      <td>0</td>\n",
       "    </tr>\n",
       "  </tbody>\n",
       "</table>\n",
       "</div>"
      ],
      "text/plain": [
       "          username                                    renderedContent  \\\n",
       "0   ShashiRajbhar6                       Support 👇\\n\\n#FarmersProtest   \n",
       "1  kaursuk06272818  Supporting farmers means supporting our countr...   \n",
       "2  kaursuk06272818  Support farmers if you are related to food #St...   \n",
       "3    SukhdevSingh_  #StopHateAgainstFarmers support #FarmersProtes...   \n",
       "4  Davidmu66668113  You hate farmers I hate you, \\nif you love the...   \n",
       "\n",
       "         date  retweetCount  \n",
       "0  2021-03-30             0  \n",
       "1  2021-03-30             0  \n",
       "2  2021-03-30             0  \n",
       "3  2021-03-30             1  \n",
       "4  2021-03-30             0  "
      ]
     },
     "execution_count": 5,
     "metadata": {},
     "output_type": "execute_result"
    }
   ],
   "source": [
    "df = pd.concat([raw_df, users_df], axis=1)[['username', 'renderedContent', 'date', 'retweetCount']]\n",
    "df.head(5)"
   ]
  },
  {
   "cell_type": "code",
   "execution_count": 6,
   "metadata": {},
   "outputs": [],
   "source": [
    "from helpers import (\n",
    "    get_most_retweeted, \n",
    "    get_users_who_tweeted_the_most, \n",
    "    get_days_with_more_tweets, \n",
    "    get_most_used_hashtags, \n",
    ")"
   ]
  },
  {
   "cell_type": "code",
   "execution_count": 7,
   "metadata": {},
   "outputs": [
    {
     "name": "stdout",
     "output_type": "stream",
     "text": [
      "Retweet count: 315547\n",
      "\n",
      "why aren’t we talking about this?! #FarmersProtest cnn.com/2021/02/01/asi…\n",
      "\n",
      "-------------------\n",
      "\n",
      "Retweet count: 103957\n",
      "\n",
      "We stand in solidarity with the #FarmersProtest in India.\n",
      " cnn.com/2021/02/01/asi…\n",
      "\n",
      "-------------------\n",
      "\n",
      "Retweet count: 67694\n",
      "\n",
      "I still #StandWithFarmers and support their peaceful protest.\n",
      "No amount of hate, threats or violations of human rights will ever change that. #FarmersProtest\n",
      "\n",
      "-------------------\n",
      "\n",
      "Retweet count: 35921\n",
      "\n",
      "“Paid actors,” huh? Quite the casting director, I hope they’re not overlooked during awards season. I stand with the farmers. #FarmersProtest https://t.co/moONj03tN0\n",
      "\n",
      "-------------------\n",
      "\n",
      "Retweet count: 26972\n",
      "\n",
      "What in the human rights violations is going on?! They cut the internet around New Delhi?! #FarmersProtest https://t.co/a5ml1P2ikU\n",
      "\n",
      "-------------------\n",
      "\n",
      "Retweet count: 23251\n",
      "\n",
      "Happy to share that I’ve donated $10,000 to provide medical assistance to the farmers in need in India to help save lives during these times. I hope we can prevent any additional life from being lost. 🙏🏾 #FarmersProtest usnews.com/news/world/art…\n",
      "\n",
      "-------------------\n",
      "\n",
      "Retweet count: 20132\n",
      "\n",
      "There has been much social media coverage around the #FarmersProtest in #India. Very useful guide to the legislation and the impact on farmers. 1/2 https://t.co/3CsdgBebdZ\n",
      "\n",
      "-------------------\n",
      "\n",
      "Retweet count: 18744\n",
      "\n",
      "Farmers feed the world. Fight for them. Protect them #FarmersProtest\n",
      "\n",
      "-------------------\n",
      "\n",
      "Retweet count: 17368\n",
      "\n",
      "Should be talking about this! #FarmersProtest\n",
      "\n",
      "cnn.com/2021/02/01/asi…\n",
      "\n",
      "-------------------\n",
      "\n",
      "Retweet count: 15677\n",
      "\n",
      "To all of my influencer/celeb friends- read up on this   #FarmersProtest 👀\n",
      "\n",
      "-------------------\n",
      "\n"
     ]
    }
   ],
   "source": [
    "get_most_retweeted(df, 10)"
   ]
  },
  {
   "cell_type": "code",
   "execution_count": 9,
   "metadata": {},
   "outputs": [
    {
     "name": "stdout",
     "output_type": "stream",
     "text": [
      "harjot_tweeting:              7134\n",
      "tasveersandhu:                2091\n",
      "shells_n_petals:              1991\n",
      "jot__b:                       1841\n",
      "rebelpacifist:                1806\n",
      "rumsomal:                     1722\n",
      "Iamjazzie96:                  1502\n",
      "Jass_k_G:                     1460\n",
      "DigitalKisanBot:              1453\n",
      "z_khalique007:                1446\n"
     ]
    }
   ],
   "source": [
    "get_users_who_tweeted_the_most(df, 10)"
   ]
  },
  {
   "cell_type": "code",
   "execution_count": 10,
   "metadata": {},
   "outputs": [
    {
     "name": "stdout",
     "output_type": "stream",
     "text": [
      "2021-02-03:    83866\n",
      "2021-02-04:    58607\n",
      "2021-02-05:    33332\n",
      "2021-02-02:    28548\n",
      "2021-02-06:    22420\n",
      "2021-02-07:    11325\n",
      "2021-02-09:    9320\n",
      "2021-02-08:    8920\n",
      "2021-02-10:    7973\n",
      "2021-02-11:    5698\n"
     ]
    }
   ],
   "source": [
    "get_days_with_more_tweets(df, 10)"
   ]
  },
  {
   "cell_type": "code",
   "execution_count": 11,
   "metadata": {
    "scrolled": true
   },
   "outputs": [
    {
     "name": "stdout",
     "output_type": "stream",
     "text": [
      "FarmersProtest:               392328\n",
      "IStandWithFarmers:            15613\n",
      "farmersprotest:               14415\n",
      "IndianFarmersHumanRights:     11896\n",
      "FarmersAreIndia:              10950\n",
      "StandWithFarmers:             10446\n",
      "Rihanna:                      8795\n",
      "FarmersProtests:              8647\n",
      "Farmers:                      6253\n",
      "shameonbollywood:             6189\n"
     ]
    }
   ],
   "source": [
    "get_most_used_hashtags(df, 10)"
   ]
  }
 ],
 "metadata": {
  "kernelspec": {
   "display_name": "Python 3",
   "language": "python",
   "name": "python3"
  },
  "language_info": {
   "codemirror_mode": {
    "name": "ipython",
    "version": 3
   },
   "file_extension": ".py",
   "mimetype": "text/x-python",
   "name": "python",
   "nbconvert_exporter": "python",
   "pygments_lexer": "ipython3",
   "version": "3.8.5"
  }
 },
 "nbformat": 4,
 "nbformat_minor": 4
}
